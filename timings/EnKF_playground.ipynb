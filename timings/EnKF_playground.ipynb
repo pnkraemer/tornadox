{
 "cells": [
  {
   "cell_type": "code",
   "execution_count": null,
   "source": [
    "import pathlib\n",
    "import importlib.util\n",
    "import sys\n",
    "\n",
    "file_path = pathlib.Path(\"/Users/jschmidt/Documents/Uni/MSc Machine Learning/Semesters/4 Thesis/Paper/high-dim-solvers/tornado/tornado/__init__.py\")\n",
    "module_name = \"tornado\"\n",
    "\n",
    "spec = importlib.util.spec_from_file_location(module_name, file_path)\n",
    "tornado = importlib.util.module_from_spec(spec)\n",
    "sys.modules[module_name] = tornado\n",
    "spec.loader.exec_module(tornado)"
   ],
   "outputs": [],
   "metadata": {}
  },
  {
   "cell_type": "code",
   "execution_count": null,
   "source": [
    "import matplotlib.pyplot as plt\n",
    "import numpy as np\n",
    "from scipy.integrate import solve_ivp"
   ],
   "outputs": [],
   "metadata": {}
  },
  {
   "cell_type": "code",
   "execution_count": null,
   "source": [
    "# ivp = tornado.ivp.vanderpol(t0=0.0, tmax=10.0, stiffness_constant=10.0)\n",
    "ivp = tornado.ivp.brusselator(N=100)"
   ],
   "outputs": [],
   "metadata": {}
  },
  {
   "cell_type": "code",
   "execution_count": null,
   "source": [
    "d = ivp.y0.shape[0]\n",
    "dt = 0.05\n",
    "tol = 1e-7\n",
    "steps = tornado.step.AdaptiveSteps(0.01, abstol=tol, reltol=tol)\n",
    "num_derivatives = 5\n",
    "ensemble_size = 1000"
   ],
   "outputs": [],
   "metadata": {}
  },
  {
   "cell_type": "code",
   "execution_count": null,
   "source": [
    "scipy_sol = solve_ivp(ivp.f, t_span=(ivp.t0, ivp.tmax), y0=ivp.y0, method=\"Radau\", dense_output=True)\n",
    "final_t_scipy = scipy_sol.t[-1]\n",
    "final_y_scipy = scipy_sol.y[:, -1]"
   ],
   "outputs": [],
   "metadata": {}
  },
  {
   "cell_type": "code",
   "execution_count": null,
   "source": [
    "enkf0 = tornado.enkf.EnK0(num_derivatives=num_derivatives, steprule=steps, ensemble_size=ensemble_size)"
   ],
   "outputs": [],
   "metadata": {}
  },
  {
   "cell_type": "code",
   "execution_count": null,
   "source": [
    "ek1 = tornado.ek1.ReferenceEK1(num_derivatives=num_derivatives, steprule=steps)"
   ],
   "outputs": [],
   "metadata": {}
  },
  {
   "cell_type": "code",
   "execution_count": null,
   "source": [
    "%%time\n",
    "enkf_states = list(enkf0.solution_generator(ivp))"
   ],
   "outputs": [],
   "metadata": {}
  },
  {
   "cell_type": "code",
   "execution_count": null,
   "source": [
    "%%time\n",
    "ek1_states = list(ek1.solution_generator(ivp))"
   ],
   "outputs": [],
   "metadata": {}
  },
  {
   "cell_type": "code",
   "execution_count": null,
   "source": [
    "def extract_states(solver, states):\n",
    "    ts = [s.t for s in states]\n",
    "    try:\n",
    "        means = [enkf0.E0 @ s.mean() for s in states]\n",
    "    except:\n",
    "        means = [enkf0.E0 @ s.y.mean for s in states]\n",
    "    return ts, means"
   ],
   "outputs": [],
   "metadata": {}
  },
  {
   "cell_type": "code",
   "execution_count": null,
   "source": [
    "enkf_ts, enkf_means = extract_states(enkf0, enkf_states)\n",
    "ek1_ts, ek1_means = extract_states(ek1, ek1_states)"
   ],
   "outputs": [],
   "metadata": {}
  },
  {
   "cell_type": "code",
   "execution_count": null,
   "source": [
    "fig = plt.figure()\n",
    "ax_enkf = fig.add_subplot(1, 3, 1)\n",
    "ax_ek1 = fig.add_subplot(1, 3, 2, sharey=ax_enkf)\n",
    "ax_scipy = fig.add_subplot(1, 3, 3, sharey=ax_ek1)\n",
    "\n",
    "ax_enkf.plot(enkf_ts, enkf_means)\n",
    "ax_ek1.plot(ek1_ts, ek1_means)\n",
    "ax_scipy.plot(enkf_ts, scipy_sol.sol(enkf_ts).T)\n",
    "\n",
    "ax_enkf.set_title(\"EnKF\")\n",
    "ax_ek1.set_title(\"ReferenceEK1\")\n",
    "ax_scipy.set_title(\"SciPy reference\")\n",
    "\n",
    "display(fig)\n",
    "# fig.savefig(\"enkf.pdf\")\n",
    "plt.close(fig)"
   ],
   "outputs": [],
   "metadata": {}
  },
  {
   "cell_type": "code",
   "execution_count": null,
   "source": [
    "enkf_error = np.linalg.norm([enkf0.E0 @ s.samples[:1000] for s in enkf_states] - scipy_sol.sol(enkf_ts).T[..., None], axis=1)\n",
    "ek1_error = np.linalg.norm([enkf0.E0 @ s.y.mean for s in ek1_states] - scipy_sol.sol(ek1_ts).T, axis=1)"
   ],
   "outputs": [],
   "metadata": {}
  },
  {
   "cell_type": "code",
   "execution_count": null,
   "source": [
    "err_fig = plt.figure()\n",
    "enkf_err_ax = err_fig.add_subplot(1, 2, 1)\n",
    "ek1_err_ax = err_fig.add_subplot(1, 2, 2, sharey=enkf_err_ax)\n",
    "\n",
    "enkf_err_ax.plot(enkf_ts, enkf_error)\n",
    "ek1_err_ax.plot(ek1_ts, ek1_error)\n",
    "enkf_err_ax.set_yscale(\"log\")\n",
    "ek1_err_ax.set_yscale(\"log\")\n",
    "display(err_fig)\n",
    "plt.close(err_fig)"
   ],
   "outputs": [],
   "metadata": {}
  },
  {
   "cell_type": "code",
   "execution_count": null,
   "source": [
    "plt.figure()\n",
    "plt.semilogy(enkf_ts[:-1], np.diff(enkf_ts), label=\"enkf\")\n",
    "plt.semilogy(ek1_ts[:-1], np.diff(ek1_ts), label=\"ek1\")\n",
    "plt.legend()\n",
    "plt.show()"
   ],
   "outputs": [],
   "metadata": {}
  },
  {
   "cell_type": "code",
   "execution_count": null,
   "source": [],
   "outputs": [],
   "metadata": {}
  }
 ],
 "metadata": {
  "kernelspec": {
   "display_name": "Python [conda env:highdim]",
   "language": "python",
   "name": "conda-env-highdim-py"
  },
  "language_info": {
   "codemirror_mode": {
    "name": "ipython",
    "version": 3
   },
   "file_extension": ".py",
   "mimetype": "text/x-python",
   "name": "python",
   "nbconvert_exporter": "python",
   "pygments_lexer": "ipython3",
   "version": "3.8.11"
  }
 },
 "nbformat": 4,
 "nbformat_minor": 5
}