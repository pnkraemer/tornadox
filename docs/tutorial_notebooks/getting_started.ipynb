{
 "cells": [
  {
   "cell_type": "markdown",
   "id": "b533c70d",
   "metadata": {},
   "source": [
    "# Getting started\n",
    "\n",
    "How can I use the code in `odefilter` to solve ODEs?\n"
   ]
  },
  {
   "cell_type": "code",
   "execution_count": null,
   "id": "5c3d9186",
   "metadata": {},
   "outputs": [],
   "source": [
    "import jax\n",
    "import jax.numpy as jnp\n",
    "from jax.experimental.ode import odeint\n",
    "from pnx.example_zoo import ivp as ivp_examples\n",
    "from pnx.odefilter import solve\n",
    "from pnx.odefilter.solvers.first_order import ek0\n",
    "from scipy.integrate import solve_ivp"
   ]
  },
  {
   "cell_type": "markdown",
   "id": "e3b3576b",
   "metadata": {},
   "source": [
    "Let's create an example ODE problem: non-stiff van der Pol.\n",
    "You can write your own, but there are a couple of pre-baked recipes.\n",
    "\n",
    "The recipes just return plain callable, tspans, etc..\n",
    "\n"
   ]
  },
  {
   "cell_type": "code",
   "execution_count": null,
   "id": "edd53ccb",
   "metadata": {},
   "outputs": [],
   "source": [
    "# Create an ODE problem\n",
    "f, tspan, u0 = ivp_examples.vanderpol(stiffness_constant=1)\n",
    "\n",
    "print(f, tspan, u0)"
   ]
  },
  {
   "cell_type": "markdown",
   "id": "61020de1",
   "metadata": {},
   "source": [
    "Next, we choose a solver.\n",
    "There are a couple of suggestions. For example, let us solve the ODE for the terminal value and use the Kronecker EK0 (the most efficient solver we have).\n",
    "\n",
    "Solvers are tuples of an `init_fn` and a `perform_step_fn`, similar to how `optax` handles optimisers, and `blackjax` handles samplers. The `perform_step_fn` has error estimation and calibration baked into the implementation."
   ]
  },
  {
   "cell_type": "code",
   "execution_count": null,
   "id": "d2e82793",
   "metadata": {},
   "outputs": [],
   "source": [
    "ek0_solver = ek0.ek0_kronecker_terminal_value(num_derivatives=4)\n",
    "\n",
    "print(ek0)"
   ]
  },
  {
   "cell_type": "markdown",
   "id": "f17cc34c",
   "metadata": {},
   "source": [
    "Let's solve the ODE now."
   ]
  },
  {
   "cell_type": "code",
   "execution_count": null,
   "id": "87010d27",
   "metadata": {},
   "outputs": [],
   "source": [
    "(rv_terminal, t), _ = solve.solve_ivp_for_terminal_value(\n",
    "    f=f, df=None, tspan=tspan, u0=u0, solver=ek0_solver, atol=1e-4, rtol=1e-4\n",
    ")\n",
    "m, c_sqrtm = rv_terminal\n",
    "\n",
    "print()\n",
    "print(m[0, :], t)"
   ]
  },
  {
   "cell_type": "markdown",
   "id": "c1ec8b45",
   "metadata": {},
   "source": [
    "The code is written in pure Jax, and we try to make it as efficient as possible.\n",
    "Compare to scipy's solver:"
   ]
  },
  {
   "cell_type": "code",
   "execution_count": null,
   "id": "adf7e32a",
   "metadata": {},
   "outputs": [],
   "source": [
    "@jax.jit\n",
    "def f_not_autonomous(_, y):\n",
    "    return f(y)\n",
    "\n",
    "\n",
    "# precompile (at least the ODE function)\n",
    "solve_ivp(\n",
    "    f_not_autonomous, tspan, u0, method=\"RK45\", atol=1e-4, rtol=1e-4, t_eval=(tspan[1],)\n",
    ")\n",
    "\n",
    "%timeit solve.solve_ivp_for_terminal_value(f=f, df=None, tspan=tspan, u0=u0, solver=ek0_solver, atol=1e-4, rtol=1e-4)\n",
    "%timeit solve_ivp(f_not_autonomous, tspan, u0, method=\"RK45\", atol=1e-4, rtol=1e-4, t_eval=(tspan[1],))"
   ]
  },
  {
   "cell_type": "markdown",
   "id": "55180b28",
   "metadata": {},
   "source": [
    "It is quite comparable in performance to Jax's ODE solver in performance."
   ]
  },
  {
   "cell_type": "code",
   "execution_count": null,
   "id": "59c3d7f7",
   "metadata": {},
   "outputs": [],
   "source": [
    "@jax.jit\n",
    "def f_not_autonomous_swapped(y, _):\n",
    "    return f(y)\n",
    "\n",
    "\n",
    "# precompile\n",
    "odeint(\n",
    "    func=f_not_autonomous_swapped,\n",
    "    y0=u0,\n",
    "    t=jnp.array([tspan[0], tspan[1]]),\n",
    "    atol=1e-4,\n",
    "    rtol=1e-4,\n",
    ")\n",
    "\n",
    "%timeit odeint(func=f_not_autonomous_swapped, y0=u0, t=jnp.array([tspan[0], tspan[1]]), atol=1e-4, rtol=1e-4)"
   ]
  }
 ],
 "metadata": {
  "jupytext": {
   "formats": "ipynb,md"
  },
  "kernelspec": {
   "display_name": "Python 3 (ipykernel)",
   "language": "python",
   "name": "python3"
  }
 },
 "nbformat": 4,
 "nbformat_minor": 5
}
