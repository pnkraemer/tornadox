{
 "cells": [
  {
   "cell_type": "markdown",
   "id": "b533c70d",
   "metadata": {},
   "source": [
    "# Getting started\n",
    "\n",
    "How can I use the code in `odefilter` to solve ODEs?\n"
   ]
  },
  {
   "cell_type": "code",
   "execution_count": 1,
   "id": "5c3d9186",
   "metadata": {
    "execution": {
     "iopub.execute_input": "2022-05-30T06:09:06.917346Z",
     "iopub.status.busy": "2022-05-30T06:09:06.914896Z",
     "iopub.status.idle": "2022-05-30T06:09:07.650657Z",
     "shell.execute_reply": "2022-05-30T06:09:07.649957Z"
    }
   },
   "outputs": [],
   "source": [
    "import jax\n",
    "import jax.numpy as jnp\n",
    "from jax.experimental.ode import odeint\n",
    "from scipy.integrate import solve_ivp\n",
    "\n",
    "from tornadox import ivp_examples, solve\n",
    "from tornadox.solvers import ek1"
   ]
  },
  {
   "cell_type": "markdown",
   "id": "e3b3576b",
   "metadata": {},
   "source": [
    "Let's create an example ODE problem: non-stiff van der Pol.\n",
    "You can write your own, but there are a couple of pre-baked recipes.\n",
    "\n",
    "The recipes just return plain callable, tspans, etc..\n",
    "\n"
   ]
  },
  {
   "cell_type": "code",
   "execution_count": 2,
   "id": "edd53ccb",
   "metadata": {
    "execution": {
     "iopub.execute_input": "2022-05-30T06:09:07.653607Z",
     "iopub.status.busy": "2022-05-30T06:09:07.653296Z",
     "iopub.status.idle": "2022-05-30T06:09:07.661964Z",
     "shell.execute_reply": "2022-05-30T06:09:07.661155Z"
    }
   },
   "outputs": [
    {
     "name": "stderr",
     "output_type": "stream",
     "text": [
      "WARNING:absl:No GPU/TPU found, falling back to CPU. (Set TF_CPP_MIN_LOG_LEVEL=0 and rerun for more info.)\n"
     ]
    },
    {
     "name": "stdout",
     "output_type": "stream",
     "text": [
      "<CompiledFunction of <CompiledFunction of <function vanderpol.<locals>.f_vanderpol at 0x7f4e3dad4280>>> (0.0, 6.3) [2. 0.]\n"
     ]
    }
   ],
   "source": [
    "# Create an ODE problem\n",
    "f, tspan, u0 = ivp_examples.vanderpol(stiffness_constant=1)\n",
    "df = jax.jacfwd(f)\n",
    "f, df = jax.jit(f), jax.jit(df)\n",
    "print(f, tspan, u0)"
   ]
  },
  {
   "cell_type": "markdown",
   "id": "61020de1",
   "metadata": {},
   "source": [
    "Next, we choose a solver.\n",
    "There are a couple of suggestions. For example, let us solve the ODE for the terminal value and use the Kronecker EK0 (the most efficient solver we have).\n",
    "\n",
    "Solvers are tuples of an `init_fn` and a `perform_step_fn`, similar to how `optax` handles optimisers, and `blackjax` handles samplers. The `perform_step_fn` has error estimation and calibration baked into the implementation."
   ]
  },
  {
   "cell_type": "code",
   "execution_count": 3,
   "id": "d2e82793",
   "metadata": {
    "execution": {
     "iopub.execute_input": "2022-05-30T06:09:07.664376Z",
     "iopub.status.busy": "2022-05-30T06:09:07.664073Z",
     "iopub.status.idle": "2022-05-30T06:09:07.924276Z",
     "shell.execute_reply": "2022-05-30T06:09:07.923601Z"
    }
   },
   "outputs": [
    {
     "name": "stdout",
     "output_type": "stream",
     "text": [
      "(<CompiledFunction of <function ek1_terminal_value.<locals>.init_fn at 0x7f4e97c71ca0>>, <CompiledFunction of <function ek1_terminal_value.<locals>.perform_step_fn at 0x7f4e3da889d0>>, <CompiledFunction of <function ek1_terminal_value.<locals>.extract_qoi_fn at 0x7f4e3da88ca0>>)\n"
     ]
    }
   ],
   "source": [
    "solver = ek1.ek1_terminal_value(ode_dimension=2, num_derivatives=4)\n",
    "\n",
    "print(solver)"
   ]
  },
  {
   "cell_type": "markdown",
   "id": "f17cc34c",
   "metadata": {},
   "source": [
    "Let's solve the ODE now."
   ]
  },
  {
   "cell_type": "code",
   "execution_count": 4,
   "id": "87010d27",
   "metadata": {
    "execution": {
     "iopub.execute_input": "2022-05-30T06:09:07.926480Z",
     "iopub.status.busy": "2022-05-30T06:09:07.926262Z",
     "iopub.status.idle": "2022-05-30T06:09:09.083788Z",
     "shell.execute_reply": "2022-05-30T06:09:09.083203Z"
    }
   },
   "outputs": [
    {
     "name": "stdout",
     "output_type": "stream",
     "text": [
      "[1.8321832 1.1616476] 6.3\n"
     ]
    }
   ],
   "source": [
    "t, rv_terminal, _ = solve.solve_ivp_for_terminal_value(\n",
    "    f=f, df=df, tspan=tspan, u0=u0, solver=solver, atol=1e-4, rtol=1e-4\n",
    ")\n",
    "m, c_sqrtm = rv_terminal\n",
    "\n",
    "print(m[0 :: (4 + 1)], t)"
   ]
  },
  {
   "cell_type": "markdown",
   "id": "c1ec8b45",
   "metadata": {},
   "source": [
    "The code is written in pure Jax, and we try to make it as efficient as possible.\n",
    "Compare to scipy's solver:"
   ]
  },
  {
   "cell_type": "code",
   "execution_count": 5,
   "id": "adf7e32a",
   "metadata": {
    "execution": {
     "iopub.execute_input": "2022-05-30T06:09:09.086058Z",
     "iopub.status.busy": "2022-05-30T06:09:09.085849Z",
     "iopub.status.idle": "2022-05-30T06:09:09.173735Z",
     "shell.execute_reply": "2022-05-30T06:09:09.173096Z"
    }
   },
   "outputs": [
    {
     "name": "stdout",
     "output_type": "stream",
     "text": [
      "1.11 ms ± 81.5 ns per loop (mean ± std. dev. of 2 runs, 2 loops each)\n",
      "4.5 ms ± 168 µs per loop (mean ± std. dev. of 2 runs, 2 loops each)\n"
     ]
    }
   ],
   "source": [
    "@jax.jit\n",
    "def f_not_autonomous(_, y):\n",
    "    return f(y)\n",
    "\n",
    "\n",
    "# precompile (at least the ODE function)\n",
    "solve_ivp(\n",
    "    f_not_autonomous, tspan, u0, method=\"RK45\", atol=1e-4, rtol=1e-4, t_eval=(tspan[1],)\n",
    ")\n",
    "\n",
    "%timeit -n2 -r2 solve.solve_ivp_for_terminal_value(f=f, df=df, tspan=tspan, u0=u0, solver=solver, atol=1e-4, rtol=1e-4)\n",
    "%timeit -n2 -r2 solve_ivp(f_not_autonomous, tspan, u0, method=\"RK45\", atol=1e-4, rtol=1e-4, t_eval=(tspan[1],))"
   ]
  },
  {
   "cell_type": "markdown",
   "id": "55180b28",
   "metadata": {},
   "source": [
    "It is quite comparable in performance to Jax's ODE solver in performance."
   ]
  },
  {
   "cell_type": "code",
   "execution_count": 6,
   "id": "59c3d7f7",
   "metadata": {
    "execution": {
     "iopub.execute_input": "2022-05-30T06:09:09.176141Z",
     "iopub.status.busy": "2022-05-30T06:09:09.175907Z",
     "iopub.status.idle": "2022-05-30T06:09:09.598037Z",
     "shell.execute_reply": "2022-05-30T06:09:09.597358Z"
    }
   },
   "outputs": [
    {
     "name": "stdout",
     "output_type": "stream",
     "text": [
      "858 µs ± 58.7 µs per loop (mean ± std. dev. of 2 runs, 2 loops each)\n"
     ]
    }
   ],
   "source": [
    "@jax.jit\n",
    "def f_not_autonomous_swapped(y, _):\n",
    "    return f(y)\n",
    "\n",
    "\n",
    "# precompile\n",
    "odeint(\n",
    "    func=f_not_autonomous_swapped,\n",
    "    y0=u0,\n",
    "    t=jnp.array([tspan[0], tspan[1]]),\n",
    "    atol=1e-4,\n",
    "    rtol=1e-4,\n",
    ")\n",
    "\n",
    "%timeit -n2 -r2 odeint(func=f_not_autonomous_swapped, y0=u0, t=jnp.array([tspan[0], tspan[1]]), atol=1e-4, rtol=1e-4)"
   ]
  }
 ],
 "metadata": {
  "jupytext": {
   "formats": "ipynb,md"
  },
  "kernelspec": {
   "display_name": "Python 3 (ipykernel)",
   "language": "python",
   "name": "python3"
  },
  "language_info": {
   "codemirror_mode": {
    "name": "ipython",
    "version": 3
   },
   "file_extension": ".py",
   "mimetype": "text/x-python",
   "name": "python",
   "nbconvert_exporter": "python",
   "pygments_lexer": "ipython3",
   "version": "3.8.10"
  }
 },
 "nbformat": 4,
 "nbformat_minor": 5
}
